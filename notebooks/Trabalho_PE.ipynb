{
 "cells": [
  {
   "cell_type": "markdown",
   "id": "a044df0e",
   "metadata": {},
   "source": [
    "# **Análise Estatística do Mercado Global de Videogames: Fatores Determinantes do Sucesso Comercial**\n",
    "\n",
    "## *Investigando a correlação entre avaliações críticas e desempenho de vendas dos principais títulos do mercado*\n",
    "\n",
    "---\n",
    "\n",
    "**Autores:** Wagner Victor Alves de Menezes, Victor Gabriel Ribeiro Jacome\n",
    "\n",
    "**Instituição:** Universidade Federal de Goiás - Instituto de Matemática e Estatística\n",
    "\n",
    "**Disciplina:** Probabilidade e Estatística A\n",
    "\n",
    "**Professora:** Amanda B. G. Milani\n",
    "\n",
    "**Data:** 26/11/2025\n",
    "\n",
    "---\n",
    "\n",
    "## **Resumo**\n",
    "\n",
    "A indústria de videogames representa um dos mercados de entretenimento mais lucrativos globalmente, movimentando mais de 180 bilhões de dólares anuais. Este estudo investiga os fatores que influenciam o sucesso comercial de videogames através de uma análise estatística abrangente dos **Top 2000 jogos mais vendidos** entre 1993 e 2018. Utilizando dados do VGChartz, aplicamos técnicas de estatística descritiva e regressão linear simples para quantificar a relação entre avaliações da crítica especializada (`critic_score`) e o desempenho de vendas globais (`total_sales`). A análise focou em jogos comercialmente relevantes para garantir maior confiabilidade dos dados e representatividade do mercado mainstream.\n",
    "\n",
    "---\n",
    "\n",
    "## **Conjunto de Dados**\n",
    "\n",
    "**Fonte:** VGChartz 2024 - Video Game Sales Dataset  \n",
    "**Plataforma:** Kaggle  \n",
    "**Link:** https://www.kaggle.com/datasets/asaniczka/video-game-sales-2024  \n",
    "\n",
    "### **Dados Originais**\n",
    "- **Período completo:** 1971 - 2024  \n",
    "- **Registros totais:** 64.016 jogos  \n",
    "\n",
    "### **Dados Após Limpeza**\n",
    "- **Período analisado:** 1993 - 2018  \n",
    "- **Registros utilizados:** 2.000 jogos (Top vendas)\n",
    "- **Critério de seleção:** Jogos com `critic_score` e `total_sales` válidos, ranqueados por vendas globais\n",
    "- **Justificativa:** Foco em jogos comercialmente relevantes com dados completos e confiáveis"
   ]
  }
 ],
 "metadata": {
  "language_info": {
   "name": "python"
  }
 },
 "nbformat": 4,
 "nbformat_minor": 5
}
